{
 "cells": [
  {
   "cell_type": "markdown",
   "metadata": {},
   "source": [
    "# This notebook looks to use Python-Crontab\n",
    "\n",
    "- i am summarising the article [here](https://stackabuse.com/scheduling-jobs-with-python-crontab/)\n",
    "\n",
    "- The package doc is [here](https://pypi.org/project/python-crontab/)\n",
    "\n",
    "- Tasks in Cron are defined in a Crontab which is a text file containing the commands to be executed\n",
    "\n",
    "- This python library simplifies that process and allows some additional features.\n",
    "\n",
    "## The main fuctions of python crontab are to:\n",
    "    - access Cron\n",
    "    - create jobs\n",
    "    - set restrictions\n",
    "    - remove jobs\n",
    "\n"
   ]
  },
  {
   "cell_type": "markdown",
   "metadata": {},
   "source": [
    "# There are 5 main fields in a cron tab to define time schedules\n",
    "\n",
    "Each field is separated by a space. \n",
    "- minute (0 - 59)\n",
    "- hour (0 - 23) \n",
    "- day of month (1 - 31)\n",
    "- month (1 - 12)\n",
    "- day of week (0 - 6) (Sunday to Saturday; 7 is also Sunday on some systems)\n",
    "\n",
    "each code will have these fields in the form of a string with spaces\n",
    "- {minute} {hour} {day of the month} {month} {day of the week}\n",
    "\n",
    "_ _ _ _ _ {code to run}\n",
    "\n",
    "# There are also some special characters for advanced uses\n",
    "\t    \n",
    "### Comma: To separate multiple values\n",
    "### Hyphen: To indicate a range of values\n",
    "### Asterisk: To indicate all possible values\n",
    "### Forward slash: To indicate EVERY"
   ]
  },
  {
   "cell_type": "code",
   "execution_count": 1,
   "metadata": {},
   "outputs": [],
   "source": [
    "# '* * * * *' == every minute of every hour of every day of the month for every month for every day of the week."
   ]
  },
  {
   "cell_type": "code",
   "execution_count": 2,
   "metadata": {},
   "outputs": [],
   "source": [
    "# '0 16 1,10,22 * *' tells cron to run a task at 4 PM (which is the 16th hour) on the 1st, 10th and 22nd day of every month."
   ]
  },
  {
   "cell_type": "code",
   "execution_count": 1,
   "metadata": {},
   "outputs": [
    {
     "name": "stdout",
     "output_type": "stream",
     "text": [
      "Collecting python-crontab\n",
      "  Downloading python-crontab-2.6.0.tar.gz (55 kB)\n",
      "\u001b[K     |████████████████████████████████| 55 kB 359 kB/s eta 0:00:011\n",
      "\u001b[?25hRequirement already satisfied: python-dateutil in /home/jcampbell/miniconda3/envs/gopher/lib/python3.8/site-packages (from python-crontab) (2.8.1)\n",
      "Requirement already satisfied: six>=1.5 in /home/jcampbell/miniconda3/envs/gopher/lib/python3.8/site-packages (from python-dateutil->python-crontab) (1.15.0)\n",
      "Building wheels for collected packages: python-crontab\n",
      "  Building wheel for python-crontab (setup.py) ... \u001b[?25ldone\n",
      "\u001b[?25h  Created wheel for python-crontab: filename=python_crontab-2.6.0-py3-none-any.whl size=25785 sha256=b05e5e213cf56c72d14eb7c6e2073ae4f4296348ca79c3fd7c677d0c78096ec5\n",
      "  Stored in directory: /home/jcampbell/.cache/pip/wheels/15/b1/cf/02130d15e4defa826a6cc5cbf2619571bb85eff8998a144fa0\n",
      "Successfully built python-crontab\n",
      "Installing collected packages: python-crontab\n",
      "Successfully installed python-crontab-2.6.0\n"
     ]
    }
   ],
   "source": [
    "# lets install Crontab\n",
    "\n",
    "! pip install python-crontab"
   ]
  },
  {
   "cell_type": "code",
   "execution_count": 1,
   "metadata": {},
   "outputs": [],
   "source": [
    "from crontab import CronTab"
   ]
  },
  {
   "cell_type": "code",
   "execution_count": 26,
   "metadata": {},
   "outputs": [],
   "source": [
    "# note this only works for linux, not windows.\n",
    "\n",
    "# username is the same as your login for bionlp server\n",
    "username = 'jcampbell'\n",
    "# now we access crontab by using the username\n",
    "cron = CronTab(user=username)\n",
    "\n",
    "# once we have access we can create a new job\n",
    "\n",
    "# set the command you want to run on a schedule\n",
    "# i want to use cron to run the retreival pipeline at set intervals so i'll call the .py script for that job\n",
    "# command_1 =  'nohup python3 -u /home/jcampbell/paed_covid_case_reports/case_report_retrieval/covid_script.py &> /home/jcampbell/paed_covid_case_reports/case_report_retrieval/ret_out.txt &'\n",
    "\n",
    "command_1 =  '/home/jcampbell/paed_covid_case_reports/case_report_retrieval/covid_script.py > /home/jcampbell/paed_covid_case_reports/case_report_retrieval/ret_out.txt 2>&1'\n",
    "\n",
    "\n",
    "# you can set a comment so that cron explains what this job is for\n",
    "comment_1 ='this is a cron job for cadmus retrieval of COVID-19 paediatric case reports'\n",
    "\n",
    "# set the comman and comment within a cron job statement\n",
    "job_1 = cron.new(command = command_1, comment = comment_1)\n",
    "\n",
    "# now we need to set the frequency\n",
    "\n",
    "## here are some example frequencies\n",
    "\n",
    "# run every 1 minute\n",
    "# job_1.minute.every(5)\n",
    "\n",
    "# run ever 12 hours\n",
    "# job_1.hour.every(12)\n",
    "\n",
    "# run on specific days of the week ['SUN','MON','TUE','WED','THU','FRI','SAT']\n",
    "\n",
    "# run on sunday and wednesday\n",
    "job_1.dow.on('SAT')\n",
    "\n",
    "# run on sepcific months\n",
    "# job.month.during('APR', 'NOV')\n",
    "\n",
    "# you can combine hourly commands using different rules but if they are the same commands, the latest frequency will be followed\n",
    "\n",
    "# this example runs the code every 15 hours and at 3am\n",
    "# job.hour.every(15)\n",
    "# job.hour.also.on(3)\n",
    "\n",
    "\n",
    "\n",
    "# finally we write the job to cron \n",
    "cron.write()\n",
    "\n"
   ]
  },
  {
   "cell_type": "markdown",
   "metadata": {},
   "source": [
    "# my job"
   ]
  },
  {
   "cell_type": "code",
   "execution_count": 2,
   "metadata": {},
   "outputs": [],
   "source": [
    "# # now we access Cron.\n",
    "# from crontab import CronTab\n",
    "# username = 'jcampbell'\n",
    "# cron = CronTab(user=username)\n",
    "\n",
    "\n",
    "# # you need to define the command line task you want performed\n",
    "\n",
    "# my_command = '/home/jcampbell/miniconda3/lib/python3.7 /home/jcampbell/miniconda3/mpbell/cadmus_covid_scheduled_output/summary_email.py > /home/jcampbell/cadmus_covid_scheduled_output/hourly_check.txt'\n",
    "# my_comment = 'covid19 Article Retrieval Hourly Check - test'\n",
    "\n",
    "# job1 = cron.new(command=my_command, comment=my_comment)\n",
    "\n",
    "\n",
    "\n",
    "# # # settting environmental variables\n",
    "# # job.env['email'] = 's0565787@ed.ac.uk'\n",
    "# # job.env['output_dir'] = '/home/jcampbell/covid19_output/'\n",
    "\n",
    "# # i'm aiming to run the job on off peak times - 9pm EST from friday over the weekend.\n",
    "# job1.minute.every(10)\n",
    "# # job.dow.on('SAT')\n",
    "\n",
    "# cron.write()\n"
   ]
  },
  {
   "cell_type": "code",
   "execution_count": 5,
   "metadata": {},
   "outputs": [],
   "source": [
    "# # now we access Cron.\n",
    "# from crontab import CronTab\n",
    "# username = 'jcampbell'\n",
    "# cron = CronTab(user=username)\n",
    "\n",
    "\n",
    "# # you need to define the command line task you want performed\n",
    "\n",
    "# my_command = '/home/jcampbell/miniconda3/bin/python3.7 /home/jcampbell/cadmus_covid_scheduled_output/summary_email.py >> /home/jcampbell/cadmus_covid_scheduled_output/hourly_check.txt 2>&1'\n",
    "# my_comment = 'covid19 Article Retrieval Hourly Check - test'\n",
    "\n",
    "# job1 = cron.new(command=my_command, comment=my_comment)\n",
    "\n",
    "\n",
    "\n",
    "# # # settting environmental variables\n",
    "# # job.env['email'] = 's0565787@ed.ac.uk'\n",
    "# # job.env['output_dir'] = '/home/jcampbell/covid19_output/'\n",
    "\n",
    "# # i'm aiming to run the job on off peak times - 9pm EST from friday over the weekend.\n",
    "# job1.every(1).hours()\n",
    "# # job.dow.on('SAT')\n",
    "\n",
    "# cron.write()"
   ]
  },
  {
   "cell_type": "code",
   "execution_count": 25,
   "metadata": {},
   "outputs": [],
   "source": [
    "# now we access Cron.\n",
    "from crontab import CronTab\n",
    "username = 'jcampbell'\n",
    "\n",
    "\n",
    "cron = CronTab(user=username)\n",
    "cron.remove_all()\n",
    "# removing a specific job\n",
    "# cron.remove(job_1)\n",
    "# after you change something you must write it to cron or it will not be staged\n",
    "cron.write()"
   ]
  },
  {
   "cell_type": "code",
   "execution_count": 27,
   "metadata": {},
   "outputs": [
    {
     "name": "stdout",
     "output_type": "stream",
     "text": [
      "* * * * SAT /home/jcampbell/paed_covid_case_reports/case_report_retrieval/covid_script.py > /home/jcampbell/paed_covid_case_reports/case_report_retrieval/ret_out.txt 2>&1 # this is a cron job for cadmus retrieval of covid-19 paediatric case reports\n",
      "True\n"
     ]
    }
   ],
   "source": [
    "for job in cron:\n",
    "    print(job)\n",
    "    print(job.is_enabled())\n"
   ]
  },
  {
   "cell_type": "code",
   "execution_count": null,
   "metadata": {},
   "outputs": [],
   "source": []
  }
 ],
 "metadata": {
  "kernelspec": {
   "display_name": "Python [conda env:gopher]",
   "language": "python",
   "name": "conda-env-gopher-py"
  },
  "language_info": {
   "codemirror_mode": {
    "name": "ipython",
    "version": 3
   },
   "file_extension": ".py",
   "mimetype": "text/x-python",
   "name": "python",
   "nbconvert_exporter": "python",
   "pygments_lexer": "ipython3",
   "version": "3.8.8"
  }
 },
 "nbformat": 4,
 "nbformat_minor": 4
}
