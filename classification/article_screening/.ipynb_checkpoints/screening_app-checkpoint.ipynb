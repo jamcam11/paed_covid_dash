{
 "cells": [
  {
   "cell_type": "markdown",
   "metadata": {},
   "source": [
    "# Introduction\n",
    "State notebook purpose here"
   ]
  },
  {
   "cell_type": "markdown",
   "metadata": {},
   "source": [
    "### Imports\n",
    "Import libraries and write settings here."
   ]
  },
  {
   "cell_type": "code",
   "execution_count": 28,
   "metadata": {
    "ExecuteTime": {
     "end_time": "2020-03-24T16:40:08.148543Z",
     "start_time": "2020-03-24T16:40:06.964851Z"
    }
   },
   "outputs": [],
   "source": [
    "# Data manipulation\n",
    "import pandas as pd\n",
    "import numpy as np\n",
    "import pickle\n",
    "import time\n",
    "from IPython.display import clear_output\n",
    "import datetime\n",
    "from Bio import Medline\n",
    "from collections import Counter\n",
    "from pathlib import Path\n",
    "\n",
    "# Options for pandas\n",
    "pd.options.display.max_columns = 50\n",
    "pd.options.display.max_rows = 30\n"
   ]
  },
  {
   "cell_type": "code",
   "execution_count": 29,
   "metadata": {},
   "outputs": [
    {
     "name": "stdout",
     "output_type": "stream",
     "text": [
      "No Classification df found, loading the retreived df\n"
     ]
    }
   ],
   "source": [
    "# check for class_df.p\n",
    "files = [file.name for file in Path('./').iterdir()]\n",
    "if 'class_df.p' in files:\n",
    "    print('Screening has already begun, loading the working df')\n",
    "    df = pickle.load(open('./class_df.p', 'rb'))\n",
    "    \n",
    "else:\n",
    "    print('No Classification df found, loading the retreived df')\n",
    "    df = pickle.load(open('../case_report_retrieval/output/retrieved_df/retrieved_df2.p', 'rb'))\n",
    "    df['include'] = None\n",
    "    df['test'] = None"
   ]
  },
  {
   "cell_type": "code",
   "execution_count": 30,
   "metadata": {},
   "outputs": [],
   "source": [
    "# I have written this app to answer two questions:\n",
    "#     Should this article have been retrived (1/0)?\n",
    "#     Is it part of the test class or control class (1 = test, ctrl = 2)?\n",
    "# this is a two tier approach, general inclusion and exclusion then refined test/control classification"
   ]
  },
  {
   "cell_type": "code",
   "execution_count": 31,
   "metadata": {},
   "outputs": [],
   "source": [
    "# set your screening questions and preferred answers\n",
    "q_dict = {'q1':{'question':\"Is this artilce relevant to the search query?\",\n",
    "                'answers': ['1','0','b']},\n",
    "          'q2':{'question':\"Should this article be in the test group or control group\",\n",
    "                'answers':['1','0','b']}\n",
    "         }"
   ]
  },
  {
   "cell_type": "code",
   "execution_count": 32,
   "metadata": {
    "ExecuteTime": {
     "end_time": "2020-03-24T11:37:30.934625Z",
     "start_time": "2020-03-24T11:36:40.656925Z"
    }
   },
   "outputs": [
    {
     "name": "stdout",
     "output_type": "stream",
     "text": [
      "You checked 26 articles in this 0 minute session, good work!\n",
      "Articles per hour in this session= 5200\n",
      "Total articles screened = 11\n",
      "Total remaining = 1757\n",
      "Projected time to completion = 0.3 hours\n"
     ]
    }
   ],
   "source": [
    "# art_count = 0\n",
    "start_time = time.time()\n",
    "count = 0\n",
    "for index, row in df.iterrows():\n",
    "    count+=1\n",
    "    if row['test'] != None:\n",
    "        continue\n",
    "    else:\n",
    "        print(f'Current index = {index}') \n",
    "        print(f'Article {count} of {len(df)}\\n')\n",
    "        print(f'PMID - {row[\"pmid\"]}')\n",
    "        print(f'Title\\n{row[\"title\"]}\\n')\n",
    "        print(f'Abstract\\n{row[\"abstract\"]}\\n')\n",
    "        if row['doi'] != '':\n",
    "            print(f'https://doi.org/{row[\"doi\"]}')\n",
    "        else:\n",
    "            print(f'https://pubmed.ncbi.nlm.nih.gov/{index}/')\n",
    "        print(f\"Journal - {row['journal']}\")\n",
    "        print(f'Pub date = {row[\"pub_date\"]}\\n')\n",
    "        \n",
    "        \n",
    "        \n",
    "        print(f'\\nlast record was {df.index[count-2]}\\n\\n')\n",
    "        print('-------------------------------------------\\n')\n",
    "        \n",
    "            \n",
    "        # is the article a paediatric case report or series about covid 19\n",
    "        include = ''\n",
    "        while include.lower() not in q_dict['q1']['answers']:\n",
    "            include = input(f\"{q_dict['q1']['question']} Yes (1), No (0), Break (b)\")\n",
    "        if include.lower() == 'b':\n",
    "            break\n",
    "        else:\n",
    "            df.loc[index, 'include'] = int(include)\n",
    "\n",
    "        if include == '1':\n",
    "            # is the article severe or mild/mod\n",
    "            test = ''\n",
    "            while test.lower() not in q_dict['q2']['answers']:\n",
    "                test = input(f\"{q_dict['q2']['question']} Yes (1), No (0) or break (b)\")\n",
    "            if test.lower() == 'b':\n",
    "                break\n",
    "            else:\n",
    "                df.loc[index, 'test'] = int(test)\n",
    "                # keep track of how many i've done\n",
    "                art_count += 1\n",
    "        else:\n",
    "            df.loc[index, 'test'] = 0\n",
    "            art_count += 1\n",
    "              \n",
    "    clear_output()\n",
    "clear_output()\n",
    "              \n",
    "# how long have I been screening?\n",
    "end_time = time.time()\n",
    "session_time = end_time - start_time\n",
    "session_hours = np.round(session_time/3600,3)\n",
    "\n",
    "try:\n",
    "    print(f'You checked {art_count} articles in this {int(session_hours*60,)} minute session, good work!')\n",
    "    print(f'Articles per hour in this session= {int(art_count/session_hours)}')\n",
    "\n",
    "    remaining = len(df)-count\n",
    "    print(f'Total articles screened = {count}')\n",
    "    print(f'Total remaining = {remaining}') \n",
    "    print(f'Projected time to completion = {np.round(remaining/(int(art_count/session_hours)),1)} hours')\n",
    "except:\n",
    "    print('Session ended')\n",
    "\n",
    "# write the working df to excel and pickle\n",
    "pickle.dump(df, open('./class_df.p', 'wb'))\n",
    "            "
   ]
  },
  {
   "cell_type": "markdown",
   "metadata": {},
   "source": [
    "## Screening Summary"
   ]
  },
  {
   "cell_type": "code",
   "execution_count": 34,
   "metadata": {},
   "outputs": [
    {
     "name": "stdout",
     "output_type": "stream",
     "text": [
      "10 Articles Screened of 1768 = 0.006\n",
      "\n",
      "Inclusion Rate = 0.6\n",
      "\n",
      "Severity proportions (Total (Included)):\n",
      "Test = 0.3 (0.5)\n",
      "Control = 0.7 (0.5)\n",
      "\n"
     ]
    }
   ],
   "source": [
    "df_summary = {}\n",
    "condition = [val in [0.0, 1.0]  for val in df['include']]\n",
    "sum_df = df[condition]\n",
    "print(f'{len(sum_df)} Articles Screened of {len(df)} = {np.round(len(sum_df)/len(df),3)}')\n",
    "p_d = dict(Counter(sum_df['include']))\n",
    "test_d = dict(Counter(sum_df['test']))\n",
    "\n",
    "\n",
    "inc_rate = np.round(p_d[1.0]/len(sum_df),3)\n",
    "print(f'\\nInclusion Rate = {inc_rate}')\n",
    "\n",
    "print(f'''\n",
    "Severity proportions (Total (Included)):\n",
    "Test = {np.round(test_d[1]/len(sum_df),3)} ({np.round(test_d[1]/p_d[1.0],3)})\n",
    "Control = {np.round(test_d[0]/len(sum_df),3)} ({np.round(test_d[1]/p_d[1.0],3)})\n",
    "''')"
   ]
  }
 ],
 "metadata": {
  "interpreter": {
   "hash": "b41082b4a07a55127767468a6d3d702e7e0d4256f439bafeb635587e5d3e4a26"
  },
  "kernelspec": {
   "display_name": "Python 3",
   "language": "python",
   "name": "python3"
  },
  "language_info": {
   "codemirror_mode": {
    "name": "ipython",
    "version": 3
   },
   "file_extension": ".py",
   "mimetype": "text/x-python",
   "name": "python",
   "nbconvert_exporter": "python",
   "pygments_lexer": "ipython3",
   "version": "3.7.7"
  },
  "toc": {
   "base_numbering": 1,
   "nav_menu": {},
   "number_sections": true,
   "sideBar": true,
   "skip_h1_title": false,
   "title_cell": "Table of Contents",
   "title_sidebar": "Contents",
   "toc_cell": false,
   "toc_position": {},
   "toc_section_display": true,
   "toc_window_display": false
  },
  "varInspector": {
   "cols": {
    "lenName": 16,
    "lenType": 16,
    "lenVar": 40
   },
   "kernels_config": {
    "python": {
     "delete_cmd_postfix": "",
     "delete_cmd_prefix": "del ",
     "library": "var_list.py",
     "varRefreshCmd": "print(var_dic_list())"
    },
    "r": {
     "delete_cmd_postfix": ") ",
     "delete_cmd_prefix": "rm(",
     "library": "var_list.r",
     "varRefreshCmd": "cat(var_dic_list()) "
    }
   },
   "types_to_exclude": [
    "module",
    "function",
    "builtin_function_or_method",
    "instance",
    "_Feature"
   ],
   "window_display": false
  }
 },
 "nbformat": 4,
 "nbformat_minor": 4
}
