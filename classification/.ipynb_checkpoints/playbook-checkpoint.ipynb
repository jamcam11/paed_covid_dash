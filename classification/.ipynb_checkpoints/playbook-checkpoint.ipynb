{
 "cells": [
  {
   "cell_type": "code",
   "execution_count": 1,
   "metadata": {},
   "outputs": [],
   "source": [
    "# libraries\n",
    "from classifier_functs import *\n",
    "import pandas as pd\n",
    "import numpy as np\n",
    "import re\n",
    "import string\n",
    "import nltk\n",
    "import scipy.stats as stats\n",
    "import pickle\n",
    "\n",
    "from collections import Counter\n",
    "from sklearn import metrics\n",
    "import math\n",
    "from sklearn.feature_extraction.text import CountVectorizer\n",
    "import scipy\n",
    "import statsmodels.stats.multitest as smm\n",
    "\n",
    "from itertools import compress\n",
    "from nltk.corpus import stopwords\n",
    "from nltk.stem import PorterStemmer\n",
    "from nltk.stem import WordNetLemmatizer \n",
    "\n",
    "from sklearn.metrics import accuracy_score\n",
    "from sklearn.metrics import confusion_matrix\n",
    "from sklearn.metrics import classification_report as report"
   ]
  },
  {
   "cell_type": "code",
   "execution_count": 22,
   "metadata": {},
   "outputs": [],
   "source": [
    "# for the classifier i'll need the retrieved text or entities for each article."
   ]
  },
  {
   "cell_type": "code",
   "execution_count": 23,
   "metadata": {},
   "outputs": [],
   "source": [
    "ret_df = pickle.load(open('/home/jcampbell/paed_covid_case_reports/scispacy_analysis/hpo_ret_df2.p', 'rb'))\n",
    "\n",
    "class_df = pickle.load(open('/home/jcampbell/paed_covid_case_reports/classification/article_screening/class_df.p', 'rb'))\n"
   ]
  },
  {
   "cell_type": "code",
   "execution_count": 24,
   "metadata": {},
   "outputs": [],
   "source": [
    "\n",
    "\n",
    "\n",
    "inc_i = []\n",
    "ex_i = []\n",
    "for index, row in class_df.iterrows():\n",
    "    if row['test'] == 2:\n",
    "        inc_i.append(index)\n",
    "        ret_df.loc[index, 'class'] = 1\n",
    "    else:\n",
    "        ex_i.append(index)\n",
    "        ret_df.loc[index, 'class'] = 0\n",
    "inc_df = pd.DataFrame(ret_df.loc[inc_i,:])\n",
    "ex_df = pd.DataFrame(ret_df.loc[ex_i,:])\n"
   ]
  },
  {
   "cell_type": "code",
   "execution_count": 25,
   "metadata": {},
   "outputs": [],
   "source": [
    "screened = inc_i + ex_i"
   ]
  },
  {
   "cell_type": "code",
   "execution_count": 26,
   "metadata": {},
   "outputs": [],
   "source": [
    "screened_df = pd.DataFrame(ret_df.loc[screened, :])"
   ]
  },
  {
   "cell_type": "code",
   "execution_count": 27,
   "metadata": {},
   "outputs": [],
   "source": [
    "from sklearn.model_selection import train_test_split"
   ]
  },
  {
   "cell_type": "code",
   "execution_count": 28,
   "metadata": {},
   "outputs": [],
   "source": [
    "train_df, test_df = train_test_split(screened_df, shuffle = True, test_size = 0.1)"
   ]
  },
  {
   "cell_type": "code",
   "execution_count": 29,
   "metadata": {},
   "outputs": [
    {
     "data": {
      "text/plain": [
       "98"
      ]
     },
     "execution_count": 29,
     "metadata": {},
     "output_type": "execute_result"
    }
   ],
   "source": [
    "screened = inc_i + ex_i\n",
    "unscreened_df = ret_df.drop(index = screened)\n",
    "len(test_df)"
   ]
  },
  {
   "cell_type": "code",
   "execution_count": 30,
   "metadata": {},
   "outputs": [],
   "source": [
    "# libraries\n",
    "from classifier_functs import *\n",
    "import pandas as pd\n",
    "import numpy as np\n",
    "import re\n",
    "import string\n",
    "import nltk\n",
    "import scipy.stats as stats\n",
    "import pickle\n",
    "\n",
    "from collections import Counter\n",
    "from sklearn import metrics\n",
    "import math\n",
    "from sklearn.feature_extraction.text import CountVectorizer\n",
    "import scipy\n",
    "import statsmodels.stats.multitest as smm\n",
    "\n",
    "from itertools import compress\n",
    "from nltk.corpus import stopwords\n",
    "from nltk.stem import PorterStemmer\n",
    "from nltk.stem import WordNetLemmatizer \n",
    "\n",
    "from sklearn.metrics import accuracy_score\n",
    "from sklearn.metrics import confusion_matrix\n",
    "from sklearn.metrics import classification_report as report\n",
    "from pathlib import Path\n"
   ]
  },
  {
   "cell_type": "code",
   "execution_count": 31,
   "metadata": {},
   "outputs": [
    {
     "name": "stdout",
     "output_type": "stream",
     "text": [
      "vectorising the training set\n",
      "saving the count vector array for the training set\n"
     ]
    },
    {
     "name": "stderr",
     "output_type": "stream",
     "text": [
      "/home/jcampbell/paed_covid_case_reports/classification/classifier_functs.py:106: SettingWithCopyWarning: \n",
      "A value is trying to be set on a copy of a slice from a DataFrame.\n",
      "Try using .loc[row_indexer,col_indexer] = value instead\n",
      "\n",
      "See the caveats in the documentation: https://pandas.pydata.org/pandas-docs/stable/user_guide/indexing.html#returning-a-view-versus-a-copy\n",
      "  df['cv'] = [vec for vec in count_vec]\n"
     ]
    }
   ],
   "source": [
    "print('vectorising the training set')\n",
    "# first we must vectorise the trainig data\n",
    "train_df, cv = training_text_vectoriser(train_df, col='umls')"
   ]
  },
  {
   "cell_type": "code",
   "execution_count": 32,
   "metadata": {},
   "outputs": [
    {
     "name": "stdout",
     "output_type": "stream",
     "text": [
      "Building the token count dataframe\n",
      "counting up each term for each class\n",
      "making the token df\n"
     ]
    }
   ],
   "source": [
    "print('Building the token count dataframe')\n",
    "# next we create a token dataframe to count the presence or absence of a given term in the included and excluded set\n",
    "token_df = term_table_maker(train_df, class_col='class', cv=cv)\n"
   ]
  },
  {
   "cell_type": "code",
   "execution_count": 33,
   "metadata": {},
   "outputs": [
    {
     "name": "stdout",
     "output_type": "stream",
     "text": [
      "Now performing Fishers exact test for token df\n",
      "correcting for multiple tests (bonferoni)\n",
      "Now setting up Bonferroni Correction\n",
      "New alpha = 3.1865400548084893e-06\n",
      "This training set yields 122 terms that reach significance\n"
     ]
    }
   ],
   "source": [
    "print(\"Now performing Fishers exact test for token df\")\n",
    "# now we calculate the enrichment of each term in the include set/exclude set\n",
    "token_df = fishers_exact(token_df)\n",
    "print(\"correcting for multiple tests (bonferoni)\")\n",
    "# now correct for multiple testing to adjust the pvalues\n",
    "token_df = bonf_correction(token_df)\n",
    "# pickle.dump(token_df, open(f'{home_dir}token_df.p', 'wb'))\n"
   ]
  },
  {
   "cell_type": "code",
   "execution_count": 34,
   "metadata": {},
   "outputs": [
    {
     "data": {
      "text/plain": [
       "Counter({list: 98})"
      ]
     },
     "execution_count": 34,
     "metadata": {},
     "output_type": "execute_result"
    }
   ],
   "source": [
    "types = [type(val) for val in test_df['umls']]\n",
    "Counter(types)"
   ]
  },
  {
   "cell_type": "code",
   "execution_count": 35,
   "metadata": {},
   "outputs": [
    {
     "name": "stdout",
     "output_type": "stream",
     "text": [
      "We've got 98 articles to classify\n",
      "Preparing test set for classification\n",
      "classifying Test set\n"
     ]
    },
    {
     "name": "stderr",
     "output_type": "stream",
     "text": [
      "/home/jcampbell/paed_covid_case_reports/classification/classifier_functs.py:240: SettingWithCopyWarning: \n",
      "A value is trying to be set on a copy of a slice from a DataFrame.\n",
      "Try using .loc[row_indexer,col_indexer] = value instead\n",
      "\n",
      "See the caveats in the documentation: https://pandas.pydata.org/pandas-docs/stable/user_guide/indexing.html#returning-a-view-versus-a-copy\n",
      "  test_df['cvs'] = [list(vec) for vec in count_vectors]\n",
      "/home/jcampbell/paed_covid_case_reports/classification/classifier_functs.py:271: SettingWithCopyWarning: \n",
      "A value is trying to be set on a copy of a slice from a DataFrame.\n",
      "Try using .loc[row_indexer,col_indexer] = value instead\n",
      "\n",
      "See the caveats in the documentation: https://pandas.pydata.org/pandas-docs/stable/user_guide/indexing.html#returning-a-view-versus-a-copy\n",
      "  test_df['post_prob'] = post_probs\n",
      "/home/jcampbell/paed_covid_case_reports/classification/classifier_functs.py:272: SettingWithCopyWarning: \n",
      "A value is trying to be set on a copy of a slice from a DataFrame.\n",
      "Try using .loc[row_indexer,col_indexer] = value instead\n",
      "\n",
      "See the caveats in the documentation: https://pandas.pydata.org/pandas-docs/stable/user_guide/indexing.html#returning-a-view-versus-a-copy\n",
      "  test_df['inc_ln_odds'] = inc_ln_odds\n",
      "/home/jcampbell/paed_covid_case_reports/classification/classifier_functs.py:273: SettingWithCopyWarning: \n",
      "A value is trying to be set on a copy of a slice from a DataFrame.\n",
      "Try using .loc[row_indexer,col_indexer] = value instead\n",
      "\n",
      "See the caveats in the documentation: https://pandas.pydata.org/pandas-docs/stable/user_guide/indexing.html#returning-a-view-versus-a-copy\n",
      "  test_df['pred'] = [1 if val == 1 else 0 for val in post_probs]\n",
      "/home/jcampbell/miniconda3/envs/gopher/lib/python3.8/site-packages/pandas/core/frame.py:4906: SettingWithCopyWarning: \n",
      "A value is trying to be set on a copy of a slice from a DataFrame\n",
      "\n",
      "See the caveats in the documentation: https://pandas.pydata.org/pandas-docs/stable/user_guide/indexing.html#returning-a-view-versus-a-copy\n",
      "  return super().drop(\n"
     ]
    }
   ],
   "source": [
    "\n",
    "print(f'We\\'ve got {len(test_df)} articles to classify')\n",
    "# we now have a token df to use for our classifier\n",
    "# lets test it against the test df\n",
    "# first we process and vectorise the test df content text\n",
    "print('Preparing test set for classification')\n",
    "test_df = test_count_vectoriser(test_df, token_df, col = 'umls')\n",
    "\n",
    "print(\"classifying Test set\")\n",
    "test_df = bayes_classifier(test_df, token_df, threshold = 1)\n",
    "# pickle.dump(test_df, open(f'{str(df_path.parent)}/{df_path.name[:-2]}_results.p', 'wb'))\n",
    "\n",
    "# paed_df = pd.DataFrame(test_df[test_df['pred'] == 1])\n",
    "# pickle.dump(paed_df, open(f'{str(df_path.parent)}/{df_path.name[:-2]}_paed.p', 'wb'))"
   ]
  },
  {
   "cell_type": "code",
   "execution_count": 5,
   "metadata": {},
   "outputs": [],
   "source": [
    "def evaluate_classifier(test_df, col='post_prob', threshold=0.99):\n",
    "    # nb this will only work on preclassified dataframes\n",
    "    # set the scores we are using ('inc_ln_odds' or 'inc_prob')\n",
    "\n",
    "    inc_df = test_df[test_df['class'] == 1]\n",
    "    ex_df = test_df[test_df['class'] == 0]\n",
    "\n",
    "    # for each threshold create a confusion matrix\n",
    "    true_pos = sum(inc_df[col] >= threshold)\n",
    "    false_neg = sum(inc_df[col] < threshold)\n",
    "    true_neg = sum(ex_df[col] < threshold)\n",
    "    false_pos = sum(ex_df[col] >= threshold)\n",
    "\n",
    "    # calculate the recall for this threshold value\n",
    "    recall  = (true_pos)/(true_pos+false_neg)\n",
    "\n",
    "    precision = (true_pos)/(true_pos+false_pos)\n",
    "\n",
    "    accuracy = (true_pos + true_neg)/(false_pos + false_neg + true_pos + true_neg)\n",
    "\n",
    "    # calculate the matthews correlation coefficient (aparently better than f1 for recall and precision tasks though they seem the same most of the time)\n",
    "    mcc = (true_pos * true_neg - false_pos * false_neg)/np.sqrt((true_pos+false_pos)*(true_pos+false_neg)*(true_neg+false_pos)*(true_neg+false_neg))  \n",
    "\n",
    "    f1 = 2*((precision*recall)/(precision+recall))\n",
    "\n",
    "    confusion_matrix = np.array([[true_pos, false_neg], [ false_pos, true_neg]])\n",
    "    \n",
    "    summary_text = f'Posterior Probability of {threshold} - Summary\\n\\\n",
    "    F1 score = {f1}\\n\\\n",
    "    MCC score = {mcc}\\n\\\n",
    "    Confusion Matrix = \\n{confusion_matrix}\\n\\\n",
    "    Precision = {precision}\\n\\\n",
    "    Recall = {recall}\\n\\\n",
    "    Accuracy = {accuracy}\\n'\n",
    "    \n",
    "    summary_d = {\"summary_text\": summary_text,\n",
    "                \"recall\":recall,\n",
    "                \"precision\":precision,\n",
    "                \"accuracy\":accuracy,\n",
    "                \"mcc\":mcc,\n",
    "                \"f1\":f1,\n",
    "                \"confusion_matrix\":confusion_matrix}\n",
    "    \n",
    "    return summary_d"
   ]
  },
  {
   "cell_type": "code",
   "execution_count": 37,
   "metadata": {},
   "outputs": [],
   "source": [
    "summary_d = evaluate_classifier(test_df, col='post_prob', threshold=0.99)"
   ]
  },
  {
   "cell_type": "code",
   "execution_count": 38,
   "metadata": {},
   "outputs": [],
   "source": [
    "cm = summary_d['confusion_matrix']"
   ]
  },
  {
   "cell_type": "code",
   "execution_count": 39,
   "metadata": {},
   "outputs": [
    {
     "data": {
      "image/png": "[encoded data removed]",
      "text/plain": [
       "<Figure size 432x288 with 2 Axes>"
      ]
     },
     "metadata": {},
     "output_type": "display_data"
    }
   ],
   "source": [
    "import seaborn as sn\n",
    "import pandas as pd\n",
    "import matplotlib.pyplot as plt\n",
    "\n",
    "\n",
    "\n",
    "# df_cm = pd.DataFrame(summary_ds[i]['confusion_matrix'], ['Severe','Mild'], ['Predict Sev', 'Predict Mild'])\n",
    "df_cm = pd.DataFrame(cm, ['Severe','Mild'], ['Predict Sev', 'Predict Mild'])\n",
    "# plt.figure(figsize=(10,7))\n",
    "sn.set(font_scale=1.4) # for label size\n",
    "# sn.color_palette(\"mako\", as_cmap=True)\n",
    "sn.heatmap(df_cm, cmap='Blues', annot=True, annot_kws={\"size\": 16}) # font size\n",
    "\n",
    "plt.show()"
   ]
  },
  {
   "cell_type": "code",
   "execution_count": 40,
   "metadata": {},
   "outputs": [
    {
     "data": {
      "image/png": "[encoded data removed]",
      "text/plain": [
       "<Figure size 432x288 with 2 Axes>"
      ]
     },
     "metadata": {},
     "output_type": "display_data"
    }
   ],
   "source": [
    "norm_cm = cm.astype('float') / cm.sum(axis=1)[:, np.newaxis]\n",
    "# df_cm = pd.DataFrame(summary_ds[i]['confusion_matrix'], ['Severe','Mild'], ['Predict Sev', 'Predict Mild'])\n",
    "df_cm = pd.DataFrame(norm_cm, ['Severe','Mild'], ['Predict Sev', 'Predict Mild'])\n",
    "# plt.figure(figsize=(10,7))\n",
    "sn.set(font_scale=1.4) # for label size\n",
    "# sn.color_palette(\"mako\", as_cmap=True)\n",
    "sn.heatmap(df_cm, cmap='Blues', annot=True, annot_kws={\"size\": 16}) # font size\n",
    "\n",
    "plt.show()"
   ]
  },
  {
   "cell_type": "code",
   "execution_count": 131,
   "metadata": {},
   "outputs": [],
   "source": [
    "summary_ds = []\n",
    "\n",
    "for val in np.arange(0.7, 1.0, 0.01):\n",
    "    summary_d = evaluate_classifier(test_df, col='post_prob', threshold=np.round(val,2))\n",
    "    summary_ds.append(summary_d)\n",
    "    "
   ]
  },
  {
   "cell_type": "code",
   "execution_count": 132,
   "metadata": {},
   "outputs": [
    {
     "name": "stdout",
     "output_type": "stream",
     "text": [
      "Threshold for accuracy = 0.9900000000000002\n",
      "Posterior Probability of 0.99 - Summary\n",
      "    F1 score = 0.8173913043478261\n",
      "    MCC score = 0.5721140909257302\n",
      "    Confusion Matrix = \n",
      "[[47  6]\n",
      " [15 30]]\n",
      "    Precision = 0.7580645161290323\n",
      "    Recall = 0.8867924528301887\n",
      "    Accuracy = 0.7857142857142857\n",
      "\n"
     ]
    }
   ],
   "source": [
    "acc = []\n",
    "for summary_d in summary_ds:\n",
    "    acc.append(summary_d['accuracy'])\n",
    "    \n",
    "i = acc.index(max(acc))\n",
    "threshs = np.arange(0.7,1.0,0.01)\n",
    "print(f'Threshold for accuracy = {threshs[i]}')\n",
    "print(summary_ds[i]['summary_text'])"
   ]
  },
  {
   "cell_type": "code",
   "execution_count": 135,
   "metadata": {},
   "outputs": [
    {
     "name": "stdout",
     "output_type": "stream",
     "text": [
      "Threshold for accuracy = 0.9900000000000002\n",
      "dict_keys(['summary_text', 'recall', 'precision', 'accuracy', 'mcc', 'f1', 'confusion_matrix'])\n"
     ]
    }
   ],
   "source": [
    "f1 = []\n",
    "for summary_d in summary_ds:\n",
    "    f1.append(summary_d['f1'])\n",
    "    \n",
    "i = f1.index(max(f1))\n",
    "threshs = np.arange(0.7,1.0,0.01)\n",
    "print(f'Threshold for accuracy = {threshs[i]}')\n",
    "print(summary_ds[i].keys())"
   ]
  },
  {
   "cell_type": "code",
   "execution_count": 134,
   "metadata": {},
   "outputs": [],
   "source": [
    "from sklearn.metrics import ConfusionMatrixDisplay\n"
   ]
  },
  {
   "cell_type": "code",
   "execution_count": 137,
   "metadata": {},
   "outputs": [],
   "source": [
    "\n",
    "df_cm = pd.DataFrame(summary_ds[i]['confusion_matrix'], range(2), range(2))"
   ]
  },
  {
   "cell_type": "code",
   "execution_count": 148,
   "metadata": {},
   "outputs": [
    {
     "name": "stdout",
     "output_type": "stream",
     "text": [
      "[[0.88679245 0.11320755]\n",
      " [0.33333333 0.66666667]]\n"
     ]
    }
   ],
   "source": [
    "cm = summary_ds[i]['confusion_matrix']\n",
    "\n",
    "cm = cm.astype('float') / cm.sum(axis=1)[:, np.newaxis]\n",
    "print(cm)"
   ]
  },
  {
   "cell_type": "code",
   "execution_count": 150,
   "metadata": {},
   "outputs": [
    {
     "data": {
      "image/png": "[encoded data removed]",
      "text/plain": [
       "<Figure size 432x288 with 2 Axes>"
      ]
     },
     "metadata": {},
     "output_type": "display_data"
    }
   ],
   "source": [
    "import seaborn as sn\n",
    "import pandas as pd\n",
    "import matplotlib.pyplot as plt\n",
    "\n",
    "\n",
    "\n",
    "# df_cm = pd.DataFrame(summary_ds[i]['confusion_matrix'], ['Severe','Mild'], ['Predict Sev', 'Predict Mild'])\n",
    "df_cm = pd.DataFrame(cm, ['Severe','Mild'], ['Predict Sev', 'Predict Mild'])\n",
    "# plt.figure(figsize=(10,7))\n",
    "sn.set(font_scale=1.4) # for label size\n",
    "# sn.color_palette(\"mako\", as_cmap=True)\n",
    "sn.heatmap(df_cm, cmap='Blues', annot=True, annot_kws={\"size\": 16}) # font size\n",
    "\n",
    "plt.show()"
   ]
  },
  {
   "cell_type": "code",
   "execution_count": null,
   "metadata": {},
   "outputs": [],
   "source": [
    "# Plot non-normalized confusion matrix\n",
    "titles_options = [\n",
    "    (\"Confusion matrix, without normalization\", None),\n",
    "    (\"Normalized confusion matrix\", \"true\"),\n",
    "]\n",
    "for title, normalize in titles_options:\n",
    "    disp = ConfusionMatrixDisplay.from_estimator(\n",
    "        classifier,\n",
    "        X_test,\n",
    "        y_test,\n",
    "        display_labels=class_names,\n",
    "        cmap=plt.cm.Blues,\n",
    "        normalize=normalize,\n",
    "    )\n",
    "    disp.ax_.set_title(title)\n",
    "\n",
    "    print(title)\n",
    "    print(disp.confusion_matrix)\n",
    "\n",
    "plt.show()\n"
   ]
  },
  {
   "cell_type": "code",
   "execution_count": 2,
   "metadata": {},
   "outputs": [],
   "source": [
    "df = pickle.load(open('./classified_df.p', 'rb'))\n"
   ]
  },
  {
   "cell_type": "code",
   "execution_count": 3,
   "metadata": {},
   "outputs": [],
   "source": [
    "from collections import Counter"
   ]
  },
  {
   "cell_type": "code",
   "execution_count": 4,
   "metadata": {},
   "outputs": [
    {
     "data": {
      "text/plain": [
       "Counter({1: 774, 0: 898})"
      ]
     },
     "execution_count": 4,
     "metadata": {},
     "output_type": "execute_result"
    }
   ],
   "source": [
    "Counter(df['pred'])"
   ]
  },
  {
   "cell_type": "code",
   "execution_count": 6,
   "metadata": {},
   "outputs": [],
   "source": [
    "summary_d = evaluate_classifier(df, col='post_prob', threshold=0.99)"
   ]
  },
  {
   "cell_type": "code",
   "execution_count": 9,
   "metadata": {},
   "outputs": [
    {
     "name": "stdout",
     "output_type": "stream",
     "text": [
      "Posterior Probability of 0.99 - Summary\n",
      "    F1 score = 0.8257191201353637\n",
      "    MCC score = 0.5708453442260848\n",
      "    Confusion Matrix = \n",
      "[[488  62]\n",
      " [144 283]]\n",
      "    Precision = 0.7721518987341772\n",
      "    Recall = 0.8872727272727273\n",
      "    Accuracy = 0.789150460593654\n",
      "\n"
     ]
    }
   ],
   "source": [
    "print(summary_d['summary_text'])"
   ]
  },
  {
   "cell_type": "code",
   "execution_count": 11,
   "metadata": {},
   "outputs": [
    {
     "data": {
      "text/plain": [
       "array([[488,  62],\n",
       "       [144, 283]])"
      ]
     },
     "execution_count": 11,
     "metadata": {},
     "output_type": "execute_result"
    }
   ],
   "source": [
    "summary_d['confusion_matrix']\n"
   ]
  },
  {
   "cell_type": "code",
   "execution_count": 12,
   "metadata": {},
   "outputs": [
    {
     "data": {
      "image/png": "[encoded data removed]",
      "text/plain": [
       "<Figure size 432x288 with 2 Axes>"
      ]
     },
     "metadata": {},
     "output_type": "display_data"
    }
   ],
   "source": [
    "import seaborn as sn\n",
    "import pandas as pd\n",
    "import matplotlib.pyplot as plt\n",
    "\n",
    "\n",
    "\n",
    "cm = summary_d['confusion_matrix']\n",
    "cm = cm.astype('float') / cm.sum(axis=1)[:, np.newaxis]\n",
    "# df_cm = pd.DataFrame(summary_ds[i]['confusion_matrix'], ['Severe','Mild'], ['Predict Sev', 'Predict Mild'])\n",
    "df_cm = pd.DataFrame(cm, ['Severe','Mild'], ['Predict Sev', 'Predict Mild'])\n",
    "# plt.figure(figsize=(10,7))\n",
    "sn.set(font_scale=1.4) # for label size\n",
    "# sn.color_palette(\"mako\", as_cmap=True)\n",
    "sn.heatmap(df_cm, cmap='Blues', annot=True, annot_kws={\"size\": 16}) # font size\n",
    "\n",
    "plt.show()"
   ]
  },
  {
   "cell_type": "code",
   "execution_count": 13,
   "metadata": {},
   "outputs": [],
   "source": [
    "# list of class severe that were predicted mild\n",
    "check = []\n",
    "for index, row in df.iterrows():\n",
    "    if row['class'] == 1 and row['pred'] == 0:\n",
    "        check.append(index)"
   ]
  },
  {
   "cell_type": "code",
   "execution_count": 14,
   "metadata": {},
   "outputs": [
    {
     "data": {
      "text/plain": [
       "62"
      ]
     },
     "execution_count": 14,
     "metadata": {},
     "output_type": "execute_result"
    }
   ],
   "source": [
    "len(check)"
   ]
  },
  {
   "cell_type": "code",
   "execution_count": null,
   "metadata": {},
   "outputs": [],
   "source": [
    "for i in check:\n",
    "    print()"
   ]
  }
 ],
 "metadata": {
  "kernelspec": {
   "display_name": "Python [conda env:gopher]",
   "language": "python",
   "name": "conda-env-gopher-py"
  },
  "language_info": {
   "codemirror_mode": {
    "name": "ipython",
    "version": 3
   },
   "file_extension": ".py",
   "mimetype": "text/x-python",
   "name": "python",
   "nbconvert_exporter": "python",
   "pygments_lexer": "ipython3",
   "version": "3.8.8"
  }
 },
 "nbformat": 4,
 "nbformat_minor": 4
}
